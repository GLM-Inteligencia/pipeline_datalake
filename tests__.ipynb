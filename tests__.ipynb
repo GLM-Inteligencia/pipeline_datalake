{
 "cells": [
  {
   "cell_type": "code",
   "execution_count": 7,
   "metadata": {},
   "outputs": [],
   "source": [
    "from src.common.cloud_storage_connector import CloudStorage\n",
    "from src.common.bigquery_connector import BigQueryManager\n",
    "from src.common.utils import batch_process, log_process, authenticate, fetch_items_from_storage\n",
    "from src.config import settings\n",
    "import json\n",
    "import asyncio\n",
    "import aiohttp\n",
    "from datetime import datetime\n",
    "import requests"
   ]
  },
  {
   "cell_type": "code",
   "execution_count": 5,
   "metadata": {},
   "outputs": [],
   "source": [
    "params = {\n",
    "  \"client_id\": \"4959083987776428\",\n",
    "  \"client_secret\": \"Hw9wWSydd8PMvMEJewWoMvKGYMAWyKEw\",\n",
    "  \"seller_id\": 189643563,\n",
    "  \"store_name\": \"hubsmarthome\"\n",
    "}\n",
    "\n",
    "data=params"
   ]
  },
  {
   "cell_type": "code",
   "execution_count": 8,
   "metadata": {},
   "outputs": [
    {
     "name": "stdout",
     "output_type": "stream",
     "text": [
      "** Defining authentication... **\n",
      "** Connecting to storage and BigQuery... **\n",
      "Using local credentials from: C:/Users/User/Documents/papa preco/service account/service_account_datalakev2.json\n",
      "Using local credentials from: C:/Users/User/Documents/papa preco/service account/service_account_datalakev2.json\n",
      "Reading file: hubsmarthome/meli/api_response/item_detail/date=2024-09-23/batch_id=0__total_items=100__process_time=2024-09-23T10:15:15.156411-03:00.json\n",
      "Reading file: hubsmarthome/meli/api_response/item_detail/date=2024-09-23/batch_id=1__total_items=100__process_time=2024-09-23T10:15:15.748949-03:00.json\n",
      "Reading file: hubsmarthome/meli/api_response/item_detail/date=2024-09-23/batch_id=2__total_items=100__process_time=2024-09-23T10:15:15.397569-03:00.json\n",
      "Reading file: hubsmarthome/meli/api_response/item_detail/date=2024-09-23/batch_id=3__total_items=100__process_time=2024-09-23T10:15:15.991552-03:00.json\n",
      "Reading file: hubsmarthome/meli/api_response/item_detail/date=2024-09-23/batch_id=4__total_items=100__process_time=2024-09-23T10:15:15.674809-03:00.json\n",
      "Reading file: hubsmarthome/meli/api_response/item_detail/date=2024-09-23/batch_id=5__total_items=100__process_time=2024-09-23T10:15:15.575324-03:00.json\n",
      "Reading file: hubsmarthome/meli/api_response/item_detail/date=2024-09-23/batch_id=6__total_items=100__process_time=2024-09-23T10:15:15.933809-03:00.json\n",
      "Reading file: hubsmarthome/meli/api_response/item_detail/date=2024-09-23/batch_id=7__total_items=100__process_time=2024-09-23T10:15:15.930171-03:00.json\n",
      "Reading file: hubsmarthome/meli/api_response/item_detail/date=2024-09-23/batch_id=8__total_items=54__process_time=2024-09-23T10:15:15.688173-03:00.json\n",
      "** Items found: 854**\n",
      "** Cleaning blob **\n",
      "All blobs with prefix hubsmarthome/meli/api_response/item_price/date=2024-09-23/ have been deleted.\n",
      "** Starting API requests for 854 items**\n"
     ]
    },
    {
     "data": {
      "text/plain": [
       "<function src.config.settings.<lambda>(item_id)>"
      ]
     },
     "execution_count": 8,
     "metadata": {},
     "output_type": "execute_result"
    }
   ],
   "source": [
    "client_id = data.get('client_id')\n",
    "client_secret = data.get('client_secret')\n",
    "store_name = data.get('store_name')\n",
    "seller_id = data.get('seller_id')\n",
    "access_token = data.get('access_token')\n",
    "print('** Defining authentication... **')\n",
    "# Authenticate (assuming this is now centralized in utils.py or a similar file)\n",
    "if not access_token:\n",
    "    access_token = authenticate(client_id, client_secret)  # You can add this to a common module\n",
    "print('** Connecting to storage and BigQuery... **')\n",
    "# Initialize storage and BigQuery\n",
    "storage = CloudStorage(credentials_path=settings.PATH_SERVICE_ACCOUNT)\n",
    "bigquery = BigQueryManager(credentials_path=settings.PATH_SERVICE_ACCOUNT)\n",
    "# Define paths and table names from the config\n",
    "bucket_name = settings.BUCKET_STORES\n",
    "table_management = settings.TABLE_MANAGEMENT\n",
    "destiny_table = settings.TABLE_PRICES\n",
    "# Define today's date\n",
    "today_str = datetime.today().strftime('%Y-%m-%d')\n",
    "\n",
    "# Fetch item IDs from the storage bucket\n",
    "blob_items_prefix = f'{store_name}/meli/api_response/item_detail/date={today_str}/'\n",
    "items_id = fetch_items_from_storage(storage, settings.BUCKET_STORES, blob_items_prefix, 'id')\n",
    "print(f'** Items found: {len(items_id)}**')\n",
    "print(f'** Cleaning blob **')\n",
    "# Path for saving price details\n",
    "blob_basic_path = settings.BLOB_PRICES(store_name)\n",
    "date_blob_path = f'{blob_basic_path}date={today_str}/'\n",
    "# Clean existing files in the storage bucket\n",
    "storage.clean_blobs(bucket_name, date_blob_path)\n",
    "print(f'** Starting API requests for {len(items_id)} items**')\n",
    "# URL function for API\n",
    "url = settings.URL_PRICE\n",
    "url"
   ]
  },
  {
   "cell_type": "code",
   "execution_count": 16,
   "metadata": {},
   "outputs": [],
   "source": [
    "headers = {'Authorization': f'Bearer {access_token}'}"
   ]
  },
  {
   "cell_type": "code",
   "execution_count": 47,
   "metadata": {},
   "outputs": [
    {
     "data": {
      "text/plain": [
       "{'id': 'MLB3348592687',\n",
       " 'prices': [{'id': '26',\n",
       "   'type': 'standard',\n",
       "   'amount': 369,\n",
       "   'regular_amount': None,\n",
       "   'currency_id': 'BRL',\n",
       "   'last_updated': '2023-11-09T13:54:49Z',\n",
       "   'conditions': {'context_restrictions': [],\n",
       "    'start_time': None,\n",
       "    'end_time': None}},\n",
       "  {'id': '243',\n",
       "   'type': 'promotion',\n",
       "   'amount': 287.82,\n",
       "   'regular_amount': 369.0,\n",
       "   'currency_id': 'BRL',\n",
       "   'last_updated': '2024-09-16T12:41:24Z',\n",
       "   'conditions': {'context_restrictions': ['channel_marketplace'],\n",
       "    'start_time': None,\n",
       "    'end_time': None}},\n",
       "  {'id': '244',\n",
       "   'type': 'promotion',\n",
       "   'amount': 287.82,\n",
       "   'regular_amount': 369.0,\n",
       "   'currency_id': 'BRL',\n",
       "   'last_updated': '2024-09-16T12:41:24Z',\n",
       "   'conditions': {'context_restrictions': ['channel_marketplace'],\n",
       "    'start_time': None,\n",
       "    'end_time': None}},\n",
       "  {'id': '245',\n",
       "   'type': 'promotion',\n",
       "   'amount': 284.13,\n",
       "   'regular_amount': 369.0,\n",
       "   'currency_id': 'BRL',\n",
       "   'last_updated': '2024-09-16T12:41:24Z',\n",
       "   'conditions': {'context_restrictions': ['channel_mshops'],\n",
       "    'start_time': None,\n",
       "    'end_time': None}}]}"
      ]
     },
     "execution_count": 47,
     "metadata": {},
     "output_type": "execute_result"
    }
   ],
   "source": [
    "response = requests.get(url('MLB3348592687'), headers=headers)\n",
    "json = response.json()\n",
    "json"
   ]
  },
  {
   "cell_type": "code",
   "execution_count": 48,
   "metadata": {},
   "outputs": [
    {
     "data": {
      "text/plain": [
       "[{'item_id': 'MLB3348592687',\n",
       "  'price_id': '26',\n",
       "  'regular_amount': None,\n",
       "  'price': 369,\n",
       "  'channel': None,\n",
       "  'last_updated': '2023-11-09T13:54:49Z'},\n",
       " {'item_id': 'MLB3348592687',\n",
       "  'price_id': '244',\n",
       "  'regular_amount': 369.0,\n",
       "  'price': 287.82,\n",
       "  'channel': 'channel_marketplace',\n",
       "  'last_updated': '2024-09-16T12:41:24Z'},\n",
       " {'item_id': 'MLB3348592687',\n",
       "  'price_id': '245',\n",
       "  'regular_amount': 369.0,\n",
       "  'price': 284.13,\n",
       "  'channel': 'channel_mshops',\n",
       "  'last_updated': '2024-09-16T12:41:24Z'}]"
      ]
     },
     "execution_count": 48,
     "metadata": {},
     "output_type": "execute_result"
    }
   ],
   "source": [
    "extracted_data = []\n",
    "# Dicionário temporário para priorizar os preços por canal\n",
    "price_by_channel = {}\n",
    "for price in json['prices']:\n",
    "    channel = price['conditions']['context_restrictions']\n",
    "    if len(channel) == 1:\n",
    "        channel = channel[0]\n",
    "        # Se ainda não há preço para o canal ou se o preço atual é promoção, atualiza\n",
    "        if channel not in price_by_channel or price['type'] == 'promotion':\n",
    "            price_by_channel[channel] = {\n",
    "                'item_id': json.get('id'),\n",
    "                'price_id': price.get('id'),\n",
    "                'regular_amount': price.get('regular_amount'),\n",
    "                'price': price.get('amount'),\n",
    "                'channel': channel,\n",
    "                'last_updated': price.get('last_updated')\n",
    "            }\n",
    "    else:\n",
    "        channel = None\n",
    "        if price_by_channel=={}:\n",
    "            price_by_channel[channel] = {\n",
    "                    'item_id': json.get('id'),\n",
    "                    'price_id': price.get('id'),\n",
    "                    'regular_amount': price.get('regular_amount'),\n",
    "                    'price': price.get('amount'),\n",
    "                    'channel': channel,\n",
    "                    'last_updated': price.get('last_updated')\n",
    "                }\n",
    "\n",
    "# Converte os valores armazenados para uma lista\n",
    "extracted_data.extend(price_by_channel.values())\n",
    "extracted_data"
   ]
  },
  {
   "cell_type": "code",
   "execution_count": 26,
   "metadata": {},
   "outputs": [
    {
     "data": {
      "text/plain": [
       "True"
      ]
     },
     "execution_count": 26,
     "metadata": {},
     "output_type": "execute_result"
    }
   ],
   "source": [
    "price_by_channel == {}"
   ]
  },
  {
   "cell_type": "code",
   "execution_count": null,
   "metadata": {},
   "outputs": [],
   "source": []
  },
  {
   "cell_type": "code",
   "execution_count": null,
   "metadata": {},
   "outputs": [],
   "source": []
  },
  {
   "cell_type": "code",
   "execution_count": null,
   "metadata": {},
   "outputs": [],
   "source": []
  },
  {
   "cell_type": "code",
   "execution_count": null,
   "metadata": {},
   "outputs": [],
   "source": []
  }
 ],
 "metadata": {
  "kernelspec": {
   "display_name": "base",
   "language": "python",
   "name": "python3"
  },
  "language_info": {
   "codemirror_mode": {
    "name": "ipython",
    "version": 3
   },
   "file_extension": ".py",
   "mimetype": "text/x-python",
   "name": "python",
   "nbconvert_exporter": "python",
   "pygments_lexer": "ipython3",
   "version": "3.10.9"
  }
 },
 "nbformat": 4,
 "nbformat_minor": 2
}
