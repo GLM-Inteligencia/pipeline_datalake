{
 "cells": [
  {
   "cell_type": "code",
   "execution_count": 51,
   "metadata": {},
   "outputs": [],
   "source": [
    "from src.cloud_functions._1_fetch_data._1_13_fetch_items_promotions.main import fetch_promotions_data\n"
   ]
  },
  {
   "cell_type": "code",
   "execution_count": 52,
   "metadata": {},
   "outputs": [],
   "source": [
    "class MockRequest:\n",
    "    \n",
    "    def __init__(self, json_data):\n",
    "        self._json_data = json_data\n",
    "\n",
    "    def get_json(self):\n",
    "        return self._json_data"
   ]
  },
  {
   "cell_type": "code",
   "execution_count": 53,
   "metadata": {},
   "outputs": [],
   "source": [
    "test_data = {\n",
    "   \"access_token\": \"APP_USR-2951712600123976-102309-17e9ae2af96480acf2d3bb33d6de6d71-569119547\",\n",
    "   \"client_id\": \"2951712600123976\",\n",
    "   \"client_secret\": \"QprAIl8ydXzcxFVHjnIHT6fUQ8KpzADV\",\n",
    "   \"seller_id\": 569119547,\n",
    "   \"store_name\": \"gw shop\"\n",
    " }\n",
    "\n",
    "mock_request = MockRequest(test_data)"
   ]
  },
  {
   "cell_type": "code",
   "execution_count": 59,
   "metadata": {},
   "outputs": [],
   "source": [
    "from src.common.cloud_storage_connector import CloudStorage\n",
    "from src.common.bigquery_connector import BigQueryManager\n",
    "from src.common.utils import batch_process, log_process, authenticate, fetch_items_from_storage\n",
    "from src.config import settings\n",
    "import json\n",
    "import asyncio\n",
    "import aiohttp\n",
    "from datetime import datetime\n",
    "\n",
    "semaphore = asyncio.Semaphore(100)  # Control the number of simultaneous requests\n",
    "\n",
    "async def main_async(request):\n",
    "    # Parsing request data\n",
    "    data = request.get_json()\n",
    "    client_id = data.get('client_id')\n",
    "    client_secret = data.get('client_secret')\n",
    "    store_name = data.get('store_name')\n",
    "    seller_id = data.get('seller_id')\n",
    "    access_token = data.get('access_token')\n",
    "    print('** Defining authentication... **')\n",
    "    \n",
    "    # Authenticate (assuming this is now centralized in utils.py or a similar file)\n",
    "    if not access_token:\n",
    "        access_token = authenticate(client_id, client_secret)  # You can add this to a common module\n",
    "    print('** Connecting to storage and BigQuery... **')\n",
    "\n",
    "    # Initialize storage and BigQuery\n",
    "    storage = CloudStorage(credentials_path=settings.PATH_SERVICE_ACCOUNT)\n",
    "    #bigquery = BigQueryManager(credentials_path=settings.PATH_SERVICE_ACCOUNT)\n",
    "    \n",
    "    # Define paths and table names from the config\n",
    "    bucket_name = settings.BUCKET_STORES\n",
    "    table_management = settings.TABLE_MANAGEMENT\n",
    "    destiny_table = settings.TABLE_ITEM_PROMOTION\n",
    "    # Define today's date\n",
    "    today_str = datetime.today().strftime('%Y-%m-%d')\n",
    "    \n",
    "    # Fetch item IDs from the storage bucket\n",
    "    blob_items_prefix = f'{store_name}/meli/api_response/item_detail/date={today_str}/'\n",
    "    items_id = fetch_items_from_storage(storage, settings.BUCKET_STORES, blob_items_prefix, 'id')\n",
    "    print(f'** Items found: {len(items_id)}**')\n",
    "    \n",
    "    print(f'** Cleaning blob **')\n",
    "    # Path for saving promotions details\n",
    "    # marketplace\n",
    "    blob_basic_path_marketplace = settings.BLOB_PROMOTIONS(store_name)\n",
    "    date_blob_path_marketplace = f'{blob_basic_path_marketplace}date={today_str}/'\n",
    "    \n",
    "    # mshops\n",
    "    blob_basic_path_mshops = settings.BLOB_PROMOTIONS_MSHOPS(store_name)\n",
    "    date_blob_path_mshops = f'{blob_basic_path_mshops}date={today_str}/'\n",
    "    \n",
    "    # Clean existing files in the storage bucket\n",
    "    storage.clean_blobs(bucket_name, date_blob_path_marketplace)\n",
    "    storage.clean_blobs(bucket_name, date_blob_path_mshops)\n",
    "    print(f'** Starting API requests for {len(items_id)} items**')\n",
    "    # URL function for API\n",
    "    url_marketplace = settings.URL_PROMOTIONS_MARKETPLACE\n",
    "    url_mshops = settings.URL_PROMOTIONS_MSHOPS\n",
    "    headers = {'Authorization': f'Bearer {access_token}'}\n",
    "    \n",
    "    # Batch processing the API requests\n",
    "    # PROMOTIONS MELI\n",
    "    async with aiohttp.ClientSession() as session:\n",
    "        await batch_process(session, items_id, url_marketplace, headers, bucket_name, date_blob_path_marketplace, storage, add_item_id = True)\n",
    "    \n",
    "    # Batch processing the API requests\n",
    "    # PROMOTIONS SHOPS\n",
    "    async with aiohttp.ClientSession() as session:\n",
    "        await batch_process(session, items_id, url_mshops, headers, bucket_name, date_blob_path_mshops, storage, add_item_id = True)\n",
    "\n",
    "    print('** Logging process in management table... **')\n",
    "    # Log the process in BigQuery\n",
    "    log_process(seller_id, destiny_table, today_str, table_management, processed_to_bq=False)\n",
    "\n",
    "    return ('Success', 200)\n",
    "\n",
    "def fetch_promotions_data(request):\n",
    "    return (main_async(request))\n",
    "\n"
   ]
  },
  {
   "cell_type": "code",
   "execution_count": 60,
   "metadata": {},
   "outputs": [
    {
     "ename": "RuntimeError",
     "evalue": "asyncio.run() cannot be called from a running event loop",
     "output_type": "error",
     "traceback": [
      "\u001b[1;31m---------------------------------------------------------------------------\u001b[0m",
      "\u001b[1;31mRuntimeError\u001b[0m                              Traceback (most recent call last)",
      "Cell \u001b[1;32mIn[60], line 1\u001b[0m\n\u001b[1;32m----> 1\u001b[0m result \u001b[38;5;241m=\u001b[39m \u001b[43mfetch_promotions_data\u001b[49m\u001b[43m(\u001b[49m\u001b[43mmock_request\u001b[49m\u001b[43m)\u001b[49m\n",
      "Cell \u001b[1;32mIn[59], line 79\u001b[0m, in \u001b[0;36mfetch_promotions_data\u001b[1;34m(request)\u001b[0m\n\u001b[0;32m     78\u001b[0m \u001b[38;5;28;01mdef\u001b[39;00m \u001b[38;5;21mfetch_promotions_data\u001b[39m(request):\n\u001b[1;32m---> 79\u001b[0m     \u001b[38;5;28;01mreturn\u001b[39;00m \u001b[43masyncio\u001b[49m\u001b[38;5;241;43m.\u001b[39;49m\u001b[43mrun\u001b[49m\u001b[43m(\u001b[49m\u001b[43mmain_async\u001b[49m\u001b[43m(\u001b[49m\u001b[43mrequest\u001b[49m\u001b[43m)\u001b[49m\u001b[43m)\u001b[49m\n",
      "File \u001b[1;32mc:\\Users\\bacar\\AppData\\Local\\Programs\\Python\\Python311\\Lib\\asyncio\\runners.py:186\u001b[0m, in \u001b[0;36mrun\u001b[1;34m(main, debug)\u001b[0m\n\u001b[0;32m    161\u001b[0m \u001b[38;5;250m\u001b[39m\u001b[38;5;124;03m\"\"\"Execute the coroutine and return the result.\u001b[39;00m\n\u001b[0;32m    162\u001b[0m \n\u001b[0;32m    163\u001b[0m \u001b[38;5;124;03mThis function runs the passed coroutine, taking care of\u001b[39;00m\n\u001b[1;32m   (...)\u001b[0m\n\u001b[0;32m    182\u001b[0m \u001b[38;5;124;03m    asyncio.run(main())\u001b[39;00m\n\u001b[0;32m    183\u001b[0m \u001b[38;5;124;03m\"\"\"\u001b[39;00m\n\u001b[0;32m    184\u001b[0m \u001b[38;5;28;01mif\u001b[39;00m events\u001b[38;5;241m.\u001b[39m_get_running_loop() \u001b[38;5;129;01mis\u001b[39;00m \u001b[38;5;129;01mnot\u001b[39;00m \u001b[38;5;28;01mNone\u001b[39;00m:\n\u001b[0;32m    185\u001b[0m     \u001b[38;5;66;03m# fail fast with short traceback\u001b[39;00m\n\u001b[1;32m--> 186\u001b[0m     \u001b[38;5;28;01mraise\u001b[39;00m \u001b[38;5;167;01mRuntimeError\u001b[39;00m(\n\u001b[0;32m    187\u001b[0m         \u001b[38;5;124m\"\u001b[39m\u001b[38;5;124masyncio.run() cannot be called from a running event loop\u001b[39m\u001b[38;5;124m\"\u001b[39m)\n\u001b[0;32m    189\u001b[0m \u001b[38;5;28;01mwith\u001b[39;00m Runner(debug\u001b[38;5;241m=\u001b[39mdebug) \u001b[38;5;28;01mas\u001b[39;00m runner:\n\u001b[0;32m    190\u001b[0m     \u001b[38;5;28;01mreturn\u001b[39;00m runner\u001b[38;5;241m.\u001b[39mrun(main)\n",
      "\u001b[1;31mRuntimeError\u001b[0m: asyncio.run() cannot be called from a running event loop"
     ]
    }
   ],
   "source": [
    "result = fetch_promotions_data(mock_request)\n"
   ]
  },
  {
   "cell_type": "code",
   "execution_count": 56,
   "metadata": {},
   "outputs": [
    {
     "name": "stdout",
     "output_type": "stream",
     "text": [
      "<coroutine object main_async at 0x000001A406E617E0>\n"
     ]
    }
   ],
   "source": [
    "print(result)\n"
   ]
  }
 ],
 "metadata": {
  "kernelspec": {
   "display_name": "Python 3",
   "language": "python",
   "name": "python3"
  },
  "language_info": {
   "codemirror_mode": {
    "name": "ipython",
    "version": 3
   },
   "file_extension": ".py",
   "mimetype": "text/x-python",
   "name": "python",
   "nbconvert_exporter": "python",
   "pygments_lexer": "ipython3",
   "version": "3.11.7"
  }
 },
 "nbformat": 4,
 "nbformat_minor": 2
}
